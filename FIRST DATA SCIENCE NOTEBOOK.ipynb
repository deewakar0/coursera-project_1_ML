{
    "cells": [
        {
            "metadata": {
                "collapsed": true
            },
            "cell_type": "markdown",
            "source": "# My Jupyter Notebook on IBM Data Science Experience"
        },
        {
            "metadata": {},
            "cell_type": "markdown",
            "source": "**DEEWAKAR KUMAR**  \n data scientist"
        },
        {
            "metadata": {},
            "cell_type": "markdown",
            "source": "_i am intrested in data science because it is evolving field of computer science with real life application with uses of maths and curiosity._"
        },
        {
            "metadata": {},
            "cell_type": "markdown",
            "source": "### PROGRAM TO  ADD TWO HARDCODED NUMBER"
        },
        {
            "metadata": {},
            "cell_type": "code",
            "source": "z=5+6\nprint(z)",
            "execution_count": 5,
            "outputs": [
                {
                    "output_type": "stream",
                    "text": "11\n",
                    "name": "stdout"
                }
            ]
        },
        {
            "metadata": {},
            "cell_type": "markdown",
            "source": "1. HELLO EVERYONE THIS IS MY FIRST PROJECT  \n2. <strike> THIS IS GOING TO BE STRIKED </strike>\n3. HORIZONTALY RULED LINE WILL APPEAR NOW   \n <hr></hr> \n <a href=\"#\"> hyperlink </a>  \n \n #### AND ALSO AND IMAGE BELOW FOR YOU GUYZ  \n<img src =\"data:image/png;base64,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\" />"
        },
        {
            "metadata": {},
            "cell_type": "code",
            "source": "",
            "execution_count": null,
            "outputs": []
        }
    ],
    "metadata": {
        "kernelspec": {
            "name": "python3",
            "display_name": "Python 3.6",
            "language": "python"
        },
        "language_info": {
            "name": "python",
            "version": "3.6.8",
            "mimetype": "text/x-python",
            "codemirror_mode": {
                "name": "ipython",
                "version": 3
            },
            "pygments_lexer": "ipython3",
            "nbconvert_exporter": "python",
            "file_extension": ".py"
        }
    },
    "nbformat": 4,
    "nbformat_minor": 1
}